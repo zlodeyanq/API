{
 "cells": [
  {
   "cell_type": "code",
   "execution_count": 2,
   "metadata": {},
   "outputs": [],
   "source": [
    "import pandas as pd\n",
    "import numpy as np\n",
    "import matplotlib.pyplot as plt\n",
    "import requests\n",
    "from citipy import citipy\n",
    "import pandas as pd"
   ]
  },
  {
   "cell_type": "code",
   "execution_count": 3,
   "metadata": {},
   "outputs": [],
   "source": [
    "#create two lists which will generate lat and log\n",
    "lat = []\n",
    "log = []\n",
    "\n",
    "#Generate 500 random numbers for lat nad log\n",
    "lat = np.random.randint(low=1, high=1000, size=500)\n",
    "log = np.random.randint(low=-1000, high=200, size=500)\n",
    "\n"
   ]
  },
  {
   "cell_type": "code",
   "execution_count": null,
   "metadata": {},
   "outputs": [],
   "source": [
    "#Identify cities based on random lat an long \n",
    "cities = []\n",
    "for latitude, longitude in zip(lat, log):\n",
    "    city = citipy.nearest_city(latitude, longitude).city_name\n",
    "    if city not in cities:\n",
    "        cities.append(city)\n",
    "len(cities)"
   ]
  },
  {
   "cell_type": "code",
   "execution_count": null,
   "metadata": {},
   "outputs": [],
   "source": [
    "#api key \n",
    "api_key = '20b16a8d838f0ff361bbeace6846183e'"
   ]
  },
  {
   "cell_type": "code",
   "execution_count": null,
   "metadata": {},
   "outputs": [],
   "source": [
    "#creating a dictionary\n",
    "dictionary_weather = {\"name\": [], \"temp\": [], \"humidity\": [], \"clouds\": [], \"wind\": [], \"lat\": [], \"lon\": [], \"id\": []}\n",
    "# to get the API \n",
    "basic_url = \"http://api.openweathermap.org/data/2.5/weather?units=metric\"\n",
    "city_id = 1\n",
    "\n",
    "#call and itirate throgh JSONs\n",
    "for city in cities:\n",
    "    if len(dictionary_weather[\"name\"]) < 500:\n",
    "        try:\n",
    "            url = basic_url+\"&appid=\"+api_key+\"&q=\"+str(city)\n",
    "            whether_request = requests.get(url)\n",
    "            whether_data = whether_request.json()\n",
    "            dictionary_weather[\"name\"].append(whether_data[\"name\"])\n",
    "            dictionary_weather[\"temp\"].append(whether_data[\"main\"][\"temp\"])\n",
    "            dictionary_weather[\"humidity\"].append(whether_data[\"main\"][\"humidity\"])\n",
    "            dictionary_weather[\"clouds\"].append(whether_data[\"clouds\"][\"all\"])\n",
    "            dictionary_weather[\"wind\"].append(whether_data[\"wind\"][\"speed\"])\n",
    "            dictionary_weather[\"lat\"].append(whether_data[\"coord\"][\"lat\"])\n",
    "            dictionary_weather[\"lon\"].append(whether_data[\"coord\"][\"lon\"])\n",
    "            dictionary_weather[\"id\"].append(city_id)\n",
    "        except:\n",
    "            pass\n"
   ]
  },
  {
   "cell_type": "code",
   "execution_count": null,
   "metadata": {},
   "outputs": [],
   "source": [
    "#convert dictionary into data frame \n",
    "weather_df = pd.DataFrame.from_dict(dictionary_weather,orient='index').transpose()\n",
    "weather_df.head()"
   ]
  },
  {
   "cell_type": "code",
   "execution_count": null,
   "metadata": {},
   "outputs": [],
   "source": [
    "#export in case of emergency data frame\n",
    "export_csv = weather_df.to_csv (r'weather_dataframe.csv', index = None, header=True)\n"
   ]
  },
  {
   "cell_type": "code",
   "execution_count": null,
   "metadata": {},
   "outputs": [],
   "source": []
  }
 ],
 "metadata": {
  "kernelspec": {
   "display_name": "Python 3",
   "language": "python",
   "name": "python3"
  },
  "language_info": {
   "codemirror_mode": {
    "name": "ipython",
    "version": 3
   },
   "file_extension": ".py",
   "mimetype": "text/x-python",
   "name": "python",
   "nbconvert_exporter": "python",
   "pygments_lexer": "ipython3",
   "version": "3.7.3"
  }
 },
 "nbformat": 4,
 "nbformat_minor": 2
}
